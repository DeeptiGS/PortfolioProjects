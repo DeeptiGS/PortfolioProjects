{
 "cells": [
  {
   "cell_type": "code",
   "execution_count": 1,
   "id": "5ece5dbc",
   "metadata": {},
   "outputs": [],
   "source": [
    "#import libraries\n",
    "import pandas as pd\n",
    "import numpy as np\n",
    "import datetime as dt\n",
    "from datetime import timedelta\n",
    "import math\n",
    "from numpy import radians, cos, sin, arcsin, sqrt\n",
    "import plotly as pt\n",
    "import seaborn as sns\n",
    "import matplotlib.pyplot as plt"
   ]
  },
  {
   "cell_type": "code",
   "execution_count": 2,
   "id": "ef2485db",
   "metadata": {},
   "outputs": [],
   "source": [
    "df = pd.read_csv(r\"C:\\Users\\Ganapathy\\Desktop\\Portfolio\\Cyclistic\\Unzipped\\12months\\combined-csv-files.csv\",low_memory = False)\n"
   ]
  },
  {
   "cell_type": "code",
   "execution_count": 3,
   "id": "8d1725b3",
   "metadata": {},
   "outputs": [
    {
     "data": {
      "text/html": [
       "<div>\n",
       "<style scoped>\n",
       "    .dataframe tbody tr th:only-of-type {\n",
       "        vertical-align: middle;\n",
       "    }\n",
       "\n",
       "    .dataframe tbody tr th {\n",
       "        vertical-align: top;\n",
       "    }\n",
       "\n",
       "    .dataframe thead th {\n",
       "        text-align: right;\n",
       "    }\n",
       "</style>\n",
       "<table border=\"1\" class=\"dataframe\">\n",
       "  <thead>\n",
       "    <tr style=\"text-align: right;\">\n",
       "      <th></th>\n",
       "      <th>ride_id</th>\n",
       "      <th>rideable_type</th>\n",
       "      <th>started_at</th>\n",
       "      <th>ended_at</th>\n",
       "      <th>start_station_name</th>\n",
       "      <th>start_station_id</th>\n",
       "      <th>end_station_name</th>\n",
       "      <th>end_station_id</th>\n",
       "      <th>start_lat</th>\n",
       "      <th>start_lng</th>\n",
       "      <th>end_lat</th>\n",
       "      <th>end_lng</th>\n",
       "      <th>member_casual</th>\n",
       "    </tr>\n",
       "  </thead>\n",
       "  <tbody>\n",
       "    <tr>\n",
       "      <th>0</th>\n",
       "      <td>322BD23D287743ED</td>\n",
       "      <td>docked_bike</td>\n",
       "      <td>2020-08-20 18:08:14</td>\n",
       "      <td>2020-08-20 18:17:51</td>\n",
       "      <td>Lake Shore Dr &amp; Diversey Pkwy</td>\n",
       "      <td>329</td>\n",
       "      <td>Clark St &amp; Lincoln Ave</td>\n",
       "      <td>141</td>\n",
       "      <td>41.932588</td>\n",
       "      <td>-87.636427</td>\n",
       "      <td>41.915689</td>\n",
       "      <td>-87.6346</td>\n",
       "      <td>member</td>\n",
       "    </tr>\n",
       "    <tr>\n",
       "      <th>1</th>\n",
       "      <td>2A3AEF1AB9054D8B</td>\n",
       "      <td>electric_bike</td>\n",
       "      <td>2020-08-27 18:46:04</td>\n",
       "      <td>2020-08-27 19:54:51</td>\n",
       "      <td>Michigan Ave &amp; 14th St</td>\n",
       "      <td>168</td>\n",
       "      <td>Michigan Ave &amp; 14th St</td>\n",
       "      <td>168</td>\n",
       "      <td>41.864379166666666</td>\n",
       "      <td>-87.62368116666667</td>\n",
       "      <td>41.8642215</td>\n",
       "      <td>-87.62343883333334</td>\n",
       "      <td>casual</td>\n",
       "    </tr>\n",
       "    <tr>\n",
       "      <th>2</th>\n",
       "      <td>67DC1D133E8B5816</td>\n",
       "      <td>electric_bike</td>\n",
       "      <td>2020-08-26 19:44:14</td>\n",
       "      <td>2020-08-26 21:53:07</td>\n",
       "      <td>Columbus Dr &amp; Randolph St</td>\n",
       "      <td>195</td>\n",
       "      <td>State St &amp; Randolph St</td>\n",
       "      <td>44</td>\n",
       "      <td>41.88464066666667</td>\n",
       "      <td>-87.619549</td>\n",
       "      <td>41.884971166666666</td>\n",
       "      <td>-87.62757366666666</td>\n",
       "      <td>casual</td>\n",
       "    </tr>\n",
       "    <tr>\n",
       "      <th>3</th>\n",
       "      <td>C79FBBD412E578A7</td>\n",
       "      <td>electric_bike</td>\n",
       "      <td>2020-08-27 12:05:41</td>\n",
       "      <td>2020-08-27 12:53:45</td>\n",
       "      <td>Daley Center Plaza</td>\n",
       "      <td>81</td>\n",
       "      <td>State St &amp; Kinzie St</td>\n",
       "      <td>47</td>\n",
       "      <td>41.884092833333334</td>\n",
       "      <td>-87.62963933333333</td>\n",
       "      <td>41.8895825</td>\n",
       "      <td>-87.62753966666666</td>\n",
       "      <td>casual</td>\n",
       "    </tr>\n",
       "    <tr>\n",
       "      <th>4</th>\n",
       "      <td>13814D3D661ECADB</td>\n",
       "      <td>electric_bike</td>\n",
       "      <td>2020-08-27 16:49:02</td>\n",
       "      <td>2020-08-27 16:59:49</td>\n",
       "      <td>Leavitt St &amp; Division St</td>\n",
       "      <td>658</td>\n",
       "      <td>Leavitt St &amp; Division St</td>\n",
       "      <td>658</td>\n",
       "      <td>41.902989</td>\n",
       "      <td>-87.6837665</td>\n",
       "      <td>41.903001833333335</td>\n",
       "      <td>-87.68384433333334</td>\n",
       "      <td>casual</td>\n",
       "    </tr>\n",
       "  </tbody>\n",
       "</table>\n",
       "</div>"
      ],
      "text/plain": [
       "            ride_id  rideable_type           started_at             ended_at  \\\n",
       "0  322BD23D287743ED    docked_bike  2020-08-20 18:08:14  2020-08-20 18:17:51   \n",
       "1  2A3AEF1AB9054D8B  electric_bike  2020-08-27 18:46:04  2020-08-27 19:54:51   \n",
       "2  67DC1D133E8B5816  electric_bike  2020-08-26 19:44:14  2020-08-26 21:53:07   \n",
       "3  C79FBBD412E578A7  electric_bike  2020-08-27 12:05:41  2020-08-27 12:53:45   \n",
       "4  13814D3D661ECADB  electric_bike  2020-08-27 16:49:02  2020-08-27 16:59:49   \n",
       "\n",
       "              start_station_name start_station_id          end_station_name  \\\n",
       "0  Lake Shore Dr & Diversey Pkwy              329    Clark St & Lincoln Ave   \n",
       "1         Michigan Ave & 14th St              168    Michigan Ave & 14th St   \n",
       "2      Columbus Dr & Randolph St              195    State St & Randolph St   \n",
       "3             Daley Center Plaza               81      State St & Kinzie St   \n",
       "4       Leavitt St & Division St              658  Leavitt St & Division St   \n",
       "\n",
       "  end_station_id           start_lat           start_lng             end_lat  \\\n",
       "0            141           41.932588          -87.636427           41.915689   \n",
       "1            168  41.864379166666666  -87.62368116666667          41.8642215   \n",
       "2             44   41.88464066666667          -87.619549  41.884971166666666   \n",
       "3             47  41.884092833333334  -87.62963933333333          41.8895825   \n",
       "4            658           41.902989         -87.6837665  41.903001833333335   \n",
       "\n",
       "              end_lng member_casual  \n",
       "0            -87.6346        member  \n",
       "1  -87.62343883333334        casual  \n",
       "2  -87.62757366666666        casual  \n",
       "3  -87.62753966666666        casual  \n",
       "4  -87.68384433333334        casual  "
      ]
     },
     "execution_count": 3,
     "metadata": {},
     "output_type": "execute_result"
    }
   ],
   "source": [
    "df.head()"
   ]
  },
  {
   "cell_type": "code",
   "execution_count": 4,
   "id": "ff5cd6a2",
   "metadata": {},
   "outputs": [
    {
     "data": {
      "text/html": [
       "<div>\n",
       "<style scoped>\n",
       "    .dataframe tbody tr th:only-of-type {\n",
       "        vertical-align: middle;\n",
       "    }\n",
       "\n",
       "    .dataframe tbody tr th {\n",
       "        vertical-align: top;\n",
       "    }\n",
       "\n",
       "    .dataframe thead th {\n",
       "        text-align: right;\n",
       "    }\n",
       "</style>\n",
       "<table border=\"1\" class=\"dataframe\">\n",
       "  <thead>\n",
       "    <tr style=\"text-align: right;\">\n",
       "      <th></th>\n",
       "      <th>ride_id</th>\n",
       "      <th>bike_type</th>\n",
       "      <th>started_at</th>\n",
       "      <th>ended_at</th>\n",
       "      <th>start_station_name</th>\n",
       "      <th>start_station_id</th>\n",
       "      <th>end_station_name</th>\n",
       "      <th>end_station_id</th>\n",
       "      <th>start_lat</th>\n",
       "      <th>start_lng</th>\n",
       "      <th>end_lat</th>\n",
       "      <th>end_lng</th>\n",
       "      <th>user_type</th>\n",
       "    </tr>\n",
       "  </thead>\n",
       "  <tbody>\n",
       "    <tr>\n",
       "      <th>0</th>\n",
       "      <td>322BD23D287743ED</td>\n",
       "      <td>docked_bike</td>\n",
       "      <td>2020-08-20 18:08:14</td>\n",
       "      <td>2020-08-20 18:17:51</td>\n",
       "      <td>Lake Shore Dr &amp; Diversey Pkwy</td>\n",
       "      <td>329</td>\n",
       "      <td>Clark St &amp; Lincoln Ave</td>\n",
       "      <td>141</td>\n",
       "      <td>41.932588</td>\n",
       "      <td>-87.636427</td>\n",
       "      <td>41.915689</td>\n",
       "      <td>-87.6346</td>\n",
       "      <td>member</td>\n",
       "    </tr>\n",
       "    <tr>\n",
       "      <th>1</th>\n",
       "      <td>2A3AEF1AB9054D8B</td>\n",
       "      <td>electric_bike</td>\n",
       "      <td>2020-08-27 18:46:04</td>\n",
       "      <td>2020-08-27 19:54:51</td>\n",
       "      <td>Michigan Ave &amp; 14th St</td>\n",
       "      <td>168</td>\n",
       "      <td>Michigan Ave &amp; 14th St</td>\n",
       "      <td>168</td>\n",
       "      <td>41.864379166666666</td>\n",
       "      <td>-87.62368116666667</td>\n",
       "      <td>41.8642215</td>\n",
       "      <td>-87.62343883333334</td>\n",
       "      <td>casual</td>\n",
       "    </tr>\n",
       "    <tr>\n",
       "      <th>2</th>\n",
       "      <td>67DC1D133E8B5816</td>\n",
       "      <td>electric_bike</td>\n",
       "      <td>2020-08-26 19:44:14</td>\n",
       "      <td>2020-08-26 21:53:07</td>\n",
       "      <td>Columbus Dr &amp; Randolph St</td>\n",
       "      <td>195</td>\n",
       "      <td>State St &amp; Randolph St</td>\n",
       "      <td>44</td>\n",
       "      <td>41.88464066666667</td>\n",
       "      <td>-87.619549</td>\n",
       "      <td>41.884971166666666</td>\n",
       "      <td>-87.62757366666666</td>\n",
       "      <td>casual</td>\n",
       "    </tr>\n",
       "    <tr>\n",
       "      <th>3</th>\n",
       "      <td>C79FBBD412E578A7</td>\n",
       "      <td>electric_bike</td>\n",
       "      <td>2020-08-27 12:05:41</td>\n",
       "      <td>2020-08-27 12:53:45</td>\n",
       "      <td>Daley Center Plaza</td>\n",
       "      <td>81</td>\n",
       "      <td>State St &amp; Kinzie St</td>\n",
       "      <td>47</td>\n",
       "      <td>41.884092833333334</td>\n",
       "      <td>-87.62963933333333</td>\n",
       "      <td>41.8895825</td>\n",
       "      <td>-87.62753966666666</td>\n",
       "      <td>casual</td>\n",
       "    </tr>\n",
       "    <tr>\n",
       "      <th>4</th>\n",
       "      <td>13814D3D661ECADB</td>\n",
       "      <td>electric_bike</td>\n",
       "      <td>2020-08-27 16:49:02</td>\n",
       "      <td>2020-08-27 16:59:49</td>\n",
       "      <td>Leavitt St &amp; Division St</td>\n",
       "      <td>658</td>\n",
       "      <td>Leavitt St &amp; Division St</td>\n",
       "      <td>658</td>\n",
       "      <td>41.902989</td>\n",
       "      <td>-87.6837665</td>\n",
       "      <td>41.903001833333335</td>\n",
       "      <td>-87.68384433333334</td>\n",
       "      <td>casual</td>\n",
       "    </tr>\n",
       "  </tbody>\n",
       "</table>\n",
       "</div>"
      ],
      "text/plain": [
       "            ride_id      bike_type           started_at             ended_at  \\\n",
       "0  322BD23D287743ED    docked_bike  2020-08-20 18:08:14  2020-08-20 18:17:51   \n",
       "1  2A3AEF1AB9054D8B  electric_bike  2020-08-27 18:46:04  2020-08-27 19:54:51   \n",
       "2  67DC1D133E8B5816  electric_bike  2020-08-26 19:44:14  2020-08-26 21:53:07   \n",
       "3  C79FBBD412E578A7  electric_bike  2020-08-27 12:05:41  2020-08-27 12:53:45   \n",
       "4  13814D3D661ECADB  electric_bike  2020-08-27 16:49:02  2020-08-27 16:59:49   \n",
       "\n",
       "              start_station_name start_station_id          end_station_name  \\\n",
       "0  Lake Shore Dr & Diversey Pkwy              329    Clark St & Lincoln Ave   \n",
       "1         Michigan Ave & 14th St              168    Michigan Ave & 14th St   \n",
       "2      Columbus Dr & Randolph St              195    State St & Randolph St   \n",
       "3             Daley Center Plaza               81      State St & Kinzie St   \n",
       "4       Leavitt St & Division St              658  Leavitt St & Division St   \n",
       "\n",
       "  end_station_id           start_lat           start_lng             end_lat  \\\n",
       "0            141           41.932588          -87.636427           41.915689   \n",
       "1            168  41.864379166666666  -87.62368116666667          41.8642215   \n",
       "2             44   41.88464066666667          -87.619549  41.884971166666666   \n",
       "3             47  41.884092833333334  -87.62963933333333          41.8895825   \n",
       "4            658           41.902989         -87.6837665  41.903001833333335   \n",
       "\n",
       "              end_lng user_type  \n",
       "0            -87.6346    member  \n",
       "1  -87.62343883333334    casual  \n",
       "2  -87.62757366666666    casual  \n",
       "3  -87.62753966666666    casual  \n",
       "4  -87.68384433333334    casual  "
      ]
     },
     "execution_count": 4,
     "metadata": {},
     "output_type": "execute_result"
    }
   ],
   "source": [
    "#Drop and rename selected columns\n",
    "df.rename(columns={'rideable_type':'bike_type','member_casual':'user_type'},inplace=True)\n",
    "df.head()"
   ]
  },
  {
   "cell_type": "code",
   "execution_count": 5,
   "id": "96567809",
   "metadata": {},
   "outputs": [
    {
     "data": {
      "text/plain": [
       "ride_id               object\n",
       "bike_type             object\n",
       "started_at            object\n",
       "ended_at              object\n",
       "start_station_name    object\n",
       "start_station_id      object\n",
       "end_station_name      object\n",
       "end_station_id        object\n",
       "start_lat             object\n",
       "start_lng             object\n",
       "end_lat               object\n",
       "end_lng               object\n",
       "user_type             object\n",
       "dtype: object"
      ]
     },
     "execution_count": 5,
     "metadata": {},
     "output_type": "execute_result"
    }
   ],
   "source": [
    "df.dtypes"
   ]
  },
  {
   "cell_type": "code",
   "execution_count": 6,
   "id": "fafdc27b",
   "metadata": {},
   "outputs": [
    {
     "data": {
      "text/plain": [
       "ride_id                       object\n",
       "bike_type                     object\n",
       "started_at            datetime64[ns]\n",
       "ended_at              datetime64[ns]\n",
       "start_station_name            object\n",
       "start_station_id              object\n",
       "end_station_name              object\n",
       "end_station_id                object\n",
       "start_lat                     object\n",
       "start_lng                     object\n",
       "end_lat                       object\n",
       "end_lng                       object\n",
       "user_type                     object\n",
       "dtype: object"
      ]
     },
     "execution_count": 6,
     "metadata": {},
     "output_type": "execute_result"
    }
   ],
   "source": [
    "#Conversion of data types\n",
    "df['started_at'] = pd.to_datetime(df['started_at'],dayfirst=True,errors='coerce')\n",
    "df['ended_at'] = pd.to_datetime(df['ended_at'],dayfirst = True,errors='coerce')\n",
    "df.dtypes"
   ]
  },
  {
   "cell_type": "code",
   "execution_count": 7,
   "id": "c04eea13",
   "metadata": {},
   "outputs": [],
   "source": [
    "#Create new columns\n",
    "df['ride_time'] = df.ended_at - df.started_at\n",
    "df['month'] = df.started_at.dt.month\n",
    "df['start_hour'] = df.started_at.dt.hour\n",
    "df['day_of_week'] = df.started_at.dt.day_name()"
   ]
  },
  {
   "cell_type": "code",
   "execution_count": 8,
   "id": "1f979f22",
   "metadata": {},
   "outputs": [
    {
     "data": {
      "text/html": [
       "<div>\n",
       "<style scoped>\n",
       "    .dataframe tbody tr th:only-of-type {\n",
       "        vertical-align: middle;\n",
       "    }\n",
       "\n",
       "    .dataframe tbody tr th {\n",
       "        vertical-align: top;\n",
       "    }\n",
       "\n",
       "    .dataframe thead th {\n",
       "        text-align: right;\n",
       "    }\n",
       "</style>\n",
       "<table border=\"1\" class=\"dataframe\">\n",
       "  <thead>\n",
       "    <tr style=\"text-align: right;\">\n",
       "      <th></th>\n",
       "      <th>ride_id</th>\n",
       "      <th>bike_type</th>\n",
       "      <th>started_at</th>\n",
       "      <th>ended_at</th>\n",
       "      <th>start_station_name</th>\n",
       "      <th>start_station_id</th>\n",
       "      <th>end_station_name</th>\n",
       "      <th>end_station_id</th>\n",
       "      <th>start_lat</th>\n",
       "      <th>start_lng</th>\n",
       "      <th>end_lat</th>\n",
       "      <th>end_lng</th>\n",
       "      <th>user_type</th>\n",
       "      <th>ride_time</th>\n",
       "      <th>month</th>\n",
       "      <th>start_hour</th>\n",
       "      <th>day_of_week</th>\n",
       "    </tr>\n",
       "  </thead>\n",
       "  <tbody>\n",
       "    <tr>\n",
       "      <th>0</th>\n",
       "      <td>322BD23D287743ED</td>\n",
       "      <td>docked_bike</td>\n",
       "      <td>2020-08-20 18:08:14</td>\n",
       "      <td>2020-08-20 18:17:51</td>\n",
       "      <td>Lake Shore Dr &amp; Diversey Pkwy</td>\n",
       "      <td>329</td>\n",
       "      <td>Clark St &amp; Lincoln Ave</td>\n",
       "      <td>141</td>\n",
       "      <td>41.932588</td>\n",
       "      <td>-87.636427</td>\n",
       "      <td>41.915689</td>\n",
       "      <td>-87.6346</td>\n",
       "      <td>member</td>\n",
       "      <td>0 days 00:09:37</td>\n",
       "      <td>8.0</td>\n",
       "      <td>18.0</td>\n",
       "      <td>Thursday</td>\n",
       "    </tr>\n",
       "    <tr>\n",
       "      <th>1</th>\n",
       "      <td>2A3AEF1AB9054D8B</td>\n",
       "      <td>electric_bike</td>\n",
       "      <td>2020-08-27 18:46:04</td>\n",
       "      <td>2020-08-27 19:54:51</td>\n",
       "      <td>Michigan Ave &amp; 14th St</td>\n",
       "      <td>168</td>\n",
       "      <td>Michigan Ave &amp; 14th St</td>\n",
       "      <td>168</td>\n",
       "      <td>41.864379166666666</td>\n",
       "      <td>-87.62368116666667</td>\n",
       "      <td>41.8642215</td>\n",
       "      <td>-87.62343883333334</td>\n",
       "      <td>casual</td>\n",
       "      <td>0 days 01:08:47</td>\n",
       "      <td>8.0</td>\n",
       "      <td>18.0</td>\n",
       "      <td>Thursday</td>\n",
       "    </tr>\n",
       "    <tr>\n",
       "      <th>2</th>\n",
       "      <td>67DC1D133E8B5816</td>\n",
       "      <td>electric_bike</td>\n",
       "      <td>2020-08-26 19:44:14</td>\n",
       "      <td>2020-08-26 21:53:07</td>\n",
       "      <td>Columbus Dr &amp; Randolph St</td>\n",
       "      <td>195</td>\n",
       "      <td>State St &amp; Randolph St</td>\n",
       "      <td>44</td>\n",
       "      <td>41.88464066666667</td>\n",
       "      <td>-87.619549</td>\n",
       "      <td>41.884971166666666</td>\n",
       "      <td>-87.62757366666666</td>\n",
       "      <td>casual</td>\n",
       "      <td>0 days 02:08:53</td>\n",
       "      <td>8.0</td>\n",
       "      <td>19.0</td>\n",
       "      <td>Wednesday</td>\n",
       "    </tr>\n",
       "    <tr>\n",
       "      <th>3</th>\n",
       "      <td>C79FBBD412E578A7</td>\n",
       "      <td>electric_bike</td>\n",
       "      <td>2020-08-27 12:05:41</td>\n",
       "      <td>2020-08-27 12:53:45</td>\n",
       "      <td>Daley Center Plaza</td>\n",
       "      <td>81</td>\n",
       "      <td>State St &amp; Kinzie St</td>\n",
       "      <td>47</td>\n",
       "      <td>41.884092833333334</td>\n",
       "      <td>-87.62963933333333</td>\n",
       "      <td>41.8895825</td>\n",
       "      <td>-87.62753966666666</td>\n",
       "      <td>casual</td>\n",
       "      <td>0 days 00:48:04</td>\n",
       "      <td>8.0</td>\n",
       "      <td>12.0</td>\n",
       "      <td>Thursday</td>\n",
       "    </tr>\n",
       "    <tr>\n",
       "      <th>4</th>\n",
       "      <td>13814D3D661ECADB</td>\n",
       "      <td>electric_bike</td>\n",
       "      <td>2020-08-27 16:49:02</td>\n",
       "      <td>2020-08-27 16:59:49</td>\n",
       "      <td>Leavitt St &amp; Division St</td>\n",
       "      <td>658</td>\n",
       "      <td>Leavitt St &amp; Division St</td>\n",
       "      <td>658</td>\n",
       "      <td>41.902989</td>\n",
       "      <td>-87.6837665</td>\n",
       "      <td>41.903001833333335</td>\n",
       "      <td>-87.68384433333334</td>\n",
       "      <td>casual</td>\n",
       "      <td>0 days 00:10:47</td>\n",
       "      <td>8.0</td>\n",
       "      <td>16.0</td>\n",
       "      <td>Thursday</td>\n",
       "    </tr>\n",
       "  </tbody>\n",
       "</table>\n",
       "</div>"
      ],
      "text/plain": [
       "            ride_id      bike_type          started_at            ended_at  \\\n",
       "0  322BD23D287743ED    docked_bike 2020-08-20 18:08:14 2020-08-20 18:17:51   \n",
       "1  2A3AEF1AB9054D8B  electric_bike 2020-08-27 18:46:04 2020-08-27 19:54:51   \n",
       "2  67DC1D133E8B5816  electric_bike 2020-08-26 19:44:14 2020-08-26 21:53:07   \n",
       "3  C79FBBD412E578A7  electric_bike 2020-08-27 12:05:41 2020-08-27 12:53:45   \n",
       "4  13814D3D661ECADB  electric_bike 2020-08-27 16:49:02 2020-08-27 16:59:49   \n",
       "\n",
       "              start_station_name start_station_id          end_station_name  \\\n",
       "0  Lake Shore Dr & Diversey Pkwy              329    Clark St & Lincoln Ave   \n",
       "1         Michigan Ave & 14th St              168    Michigan Ave & 14th St   \n",
       "2      Columbus Dr & Randolph St              195    State St & Randolph St   \n",
       "3             Daley Center Plaza               81      State St & Kinzie St   \n",
       "4       Leavitt St & Division St              658  Leavitt St & Division St   \n",
       "\n",
       "  end_station_id           start_lat           start_lng             end_lat  \\\n",
       "0            141           41.932588          -87.636427           41.915689   \n",
       "1            168  41.864379166666666  -87.62368116666667          41.8642215   \n",
       "2             44   41.88464066666667          -87.619549  41.884971166666666   \n",
       "3             47  41.884092833333334  -87.62963933333333          41.8895825   \n",
       "4            658           41.902989         -87.6837665  41.903001833333335   \n",
       "\n",
       "              end_lng user_type       ride_time  month  start_hour day_of_week  \n",
       "0            -87.6346    member 0 days 00:09:37    8.0        18.0    Thursday  \n",
       "1  -87.62343883333334    casual 0 days 01:08:47    8.0        18.0    Thursday  \n",
       "2  -87.62757366666666    casual 0 days 02:08:53    8.0        19.0   Wednesday  \n",
       "3  -87.62753966666666    casual 0 days 00:48:04    8.0        12.0    Thursday  \n",
       "4  -87.68384433333334    casual 0 days 00:10:47    8.0        16.0    Thursday  "
      ]
     },
     "execution_count": 8,
     "metadata": {},
     "output_type": "execute_result"
    }
   ],
   "source": [
    "df.head()"
   ]
  },
  {
   "cell_type": "code",
   "execution_count": 9,
   "id": "8c3dd5cf",
   "metadata": {},
   "outputs": [
    {
     "data": {
      "text/plain": [
       "ride_id                        object\n",
       "bike_type                      object\n",
       "started_at             datetime64[ns]\n",
       "ended_at               datetime64[ns]\n",
       "start_station_name             object\n",
       "start_station_id               object\n",
       "end_station_name               object\n",
       "end_station_id                 object\n",
       "start_lat                     float64\n",
       "start_lng                     float64\n",
       "end_lat                       float64\n",
       "end_lng                       float64\n",
       "user_type                      object\n",
       "ride_time             timedelta64[ns]\n",
       "month                         float64\n",
       "start_hour                    float64\n",
       "day_of_week                    object\n",
       "dtype: object"
      ]
     },
     "execution_count": 9,
     "metadata": {},
     "output_type": "execute_result"
    }
   ],
   "source": [
    "df[\"start_lng\"] = pd.to_numeric(df.start_lng, errors='coerce')\n",
    "df[\"start_lat\"] = pd.to_numeric(df.start_lat, errors='coerce')\n",
    "df[\"end_lat\"] = pd.to_numeric(df.end_lat, errors='coerce')\n",
    "df[\"end_lng\"] = pd.to_numeric(df.end_lng, errors='coerce')\n",
    "                              \n",
    "df.dtypes"
   ]
  },
  {
   "cell_type": "code",
   "execution_count": 10,
   "id": "b0503309",
   "metadata": {},
   "outputs": [
    {
     "data": {
      "text/plain": [
       "array([1.88515254, 0.02664715, 0.66532459, ..., 0.        , 0.        ,\n",
       "              nan])"
      ]
     },
     "execution_count": 10,
     "metadata": {},
     "output_type": "execute_result"
    }
   ],
   "source": [
    "#Haversine formula. This formula calculates distance between two points on a oblong sphere (the category that our planet falls under).\n",
    "\n",
    "\n",
    "\n",
    "def haversine(lon1, lat1, lon2, lat2):\n",
    "    \"\"\"\n",
    "    Calculate the great circle distance between two points \n",
    "    on the earth (specified in decimal degrees)\n",
    "    \"\"\"\n",
    "\n",
    "    #Convert decimal degrees to Radians:\n",
    "    lon1 = np.radians(lon1.values)\n",
    "    lat1 = np.radians(lat1.values)\n",
    "    lon2 = np.radians(lon2.values)\n",
    "    lat2 = np.radians(lat2.values)\n",
    "\n",
    "    #Implementing Haversine Formula: \n",
    "    dlon = np.subtract(lon2, lon1)\n",
    "    dlat = np.subtract(lat2, lat1)\n",
    "\n",
    "    a = np.add(np.power(np.sin(np.divide(dlat, 2)), 2),  \n",
    "                          np.multiply(np.cos(lat1), \n",
    "                                      np.multiply(np.cos(lat2), \n",
    "                                                  np.power(np.sin(np.divide(dlon, 2)), 2))))\n",
    "    c = np.multiply(2, np.arcsin(np.sqrt(a)))\n",
    "    r = 6371\n",
    "\n",
    "    return c*r\n",
    "x = haversine(df.start_lng,df.start_lat,df.end_lng,df.end_lat)\n",
    "x"
   ]
  },
  {
   "cell_type": "code",
   "execution_count": 11,
   "id": "de094f05",
   "metadata": {},
   "outputs": [],
   "source": [
    "#Create additional columns.\n",
    "\n",
    "df['distance_estimate'] = np.round(x*0.6213712,2)\n",
    "df['mph_estimate'] = df.distance_estimate / (df.ride_time.dt.seconds / 3600)\n",
    "df['returned_location'] = df.distance_estimate.apply(lambda x: 'same location' if x == 0  else 'new location')\n",
    "df['date'] = df.started_at.dt.date"
   ]
  },
  {
   "cell_type": "code",
   "execution_count": 12,
   "id": "6b831e71",
   "metadata": {},
   "outputs": [
    {
     "data": {
      "text/html": [
       "<div>\n",
       "<style scoped>\n",
       "    .dataframe tbody tr th:only-of-type {\n",
       "        vertical-align: middle;\n",
       "    }\n",
       "\n",
       "    .dataframe tbody tr th {\n",
       "        vertical-align: top;\n",
       "    }\n",
       "\n",
       "    .dataframe thead th {\n",
       "        text-align: right;\n",
       "    }\n",
       "</style>\n",
       "<table border=\"1\" class=\"dataframe\">\n",
       "  <thead>\n",
       "    <tr style=\"text-align: right;\">\n",
       "      <th></th>\n",
       "      <th>ride_id</th>\n",
       "      <th>bike_type</th>\n",
       "      <th>started_at</th>\n",
       "      <th>ended_at</th>\n",
       "      <th>start_station_name</th>\n",
       "      <th>start_station_id</th>\n",
       "      <th>end_station_name</th>\n",
       "      <th>end_station_id</th>\n",
       "      <th>start_lat</th>\n",
       "      <th>start_lng</th>\n",
       "      <th>...</th>\n",
       "      <th>end_lng</th>\n",
       "      <th>user_type</th>\n",
       "      <th>ride_time</th>\n",
       "      <th>month</th>\n",
       "      <th>start_hour</th>\n",
       "      <th>day_of_week</th>\n",
       "      <th>distance_estimate</th>\n",
       "      <th>mph_estimate</th>\n",
       "      <th>returned_location</th>\n",
       "      <th>date</th>\n",
       "    </tr>\n",
       "  </thead>\n",
       "  <tbody>\n",
       "    <tr>\n",
       "      <th>0</th>\n",
       "      <td>322BD23D287743ED</td>\n",
       "      <td>docked_bike</td>\n",
       "      <td>2020-08-20 18:08:14</td>\n",
       "      <td>2020-08-20 18:17:51</td>\n",
       "      <td>Lake Shore Dr &amp; Diversey Pkwy</td>\n",
       "      <td>329</td>\n",
       "      <td>Clark St &amp; Lincoln Ave</td>\n",
       "      <td>141</td>\n",
       "      <td>41.932588</td>\n",
       "      <td>-87.636427</td>\n",
       "      <td>...</td>\n",
       "      <td>-87.634600</td>\n",
       "      <td>member</td>\n",
       "      <td>0 days 00:09:37</td>\n",
       "      <td>8.0</td>\n",
       "      <td>18.0</td>\n",
       "      <td>Thursday</td>\n",
       "      <td>1.17</td>\n",
       "      <td>7.299827</td>\n",
       "      <td>new location</td>\n",
       "      <td>2020-08-20</td>\n",
       "    </tr>\n",
       "    <tr>\n",
       "      <th>1</th>\n",
       "      <td>2A3AEF1AB9054D8B</td>\n",
       "      <td>electric_bike</td>\n",
       "      <td>2020-08-27 18:46:04</td>\n",
       "      <td>2020-08-27 19:54:51</td>\n",
       "      <td>Michigan Ave &amp; 14th St</td>\n",
       "      <td>168</td>\n",
       "      <td>Michigan Ave &amp; 14th St</td>\n",
       "      <td>168</td>\n",
       "      <td>41.864379</td>\n",
       "      <td>-87.623681</td>\n",
       "      <td>...</td>\n",
       "      <td>-87.623439</td>\n",
       "      <td>casual</td>\n",
       "      <td>0 days 01:08:47</td>\n",
       "      <td>8.0</td>\n",
       "      <td>18.0</td>\n",
       "      <td>Thursday</td>\n",
       "      <td>0.02</td>\n",
       "      <td>0.017446</td>\n",
       "      <td>new location</td>\n",
       "      <td>2020-08-27</td>\n",
       "    </tr>\n",
       "    <tr>\n",
       "      <th>2</th>\n",
       "      <td>67DC1D133E8B5816</td>\n",
       "      <td>electric_bike</td>\n",
       "      <td>2020-08-26 19:44:14</td>\n",
       "      <td>2020-08-26 21:53:07</td>\n",
       "      <td>Columbus Dr &amp; Randolph St</td>\n",
       "      <td>195</td>\n",
       "      <td>State St &amp; Randolph St</td>\n",
       "      <td>44</td>\n",
       "      <td>41.884641</td>\n",
       "      <td>-87.619549</td>\n",
       "      <td>...</td>\n",
       "      <td>-87.627574</td>\n",
       "      <td>casual</td>\n",
       "      <td>0 days 02:08:53</td>\n",
       "      <td>8.0</td>\n",
       "      <td>19.0</td>\n",
       "      <td>Wednesday</td>\n",
       "      <td>0.41</td>\n",
       "      <td>0.190870</td>\n",
       "      <td>new location</td>\n",
       "      <td>2020-08-26</td>\n",
       "    </tr>\n",
       "    <tr>\n",
       "      <th>3</th>\n",
       "      <td>C79FBBD412E578A7</td>\n",
       "      <td>electric_bike</td>\n",
       "      <td>2020-08-27 12:05:41</td>\n",
       "      <td>2020-08-27 12:53:45</td>\n",
       "      <td>Daley Center Plaza</td>\n",
       "      <td>81</td>\n",
       "      <td>State St &amp; Kinzie St</td>\n",
       "      <td>47</td>\n",
       "      <td>41.884093</td>\n",
       "      <td>-87.629639</td>\n",
       "      <td>...</td>\n",
       "      <td>-87.627540</td>\n",
       "      <td>casual</td>\n",
       "      <td>0 days 00:48:04</td>\n",
       "      <td>8.0</td>\n",
       "      <td>12.0</td>\n",
       "      <td>Thursday</td>\n",
       "      <td>0.39</td>\n",
       "      <td>0.486824</td>\n",
       "      <td>new location</td>\n",
       "      <td>2020-08-27</td>\n",
       "    </tr>\n",
       "    <tr>\n",
       "      <th>4</th>\n",
       "      <td>13814D3D661ECADB</td>\n",
       "      <td>electric_bike</td>\n",
       "      <td>2020-08-27 16:49:02</td>\n",
       "      <td>2020-08-27 16:59:49</td>\n",
       "      <td>Leavitt St &amp; Division St</td>\n",
       "      <td>658</td>\n",
       "      <td>Leavitt St &amp; Division St</td>\n",
       "      <td>658</td>\n",
       "      <td>41.902989</td>\n",
       "      <td>-87.683767</td>\n",
       "      <td>...</td>\n",
       "      <td>-87.683844</td>\n",
       "      <td>casual</td>\n",
       "      <td>0 days 00:10:47</td>\n",
       "      <td>8.0</td>\n",
       "      <td>16.0</td>\n",
       "      <td>Thursday</td>\n",
       "      <td>0.00</td>\n",
       "      <td>0.000000</td>\n",
       "      <td>same location</td>\n",
       "      <td>2020-08-27</td>\n",
       "    </tr>\n",
       "  </tbody>\n",
       "</table>\n",
       "<p>5 rows × 21 columns</p>\n",
       "</div>"
      ],
      "text/plain": [
       "            ride_id      bike_type          started_at            ended_at  \\\n",
       "0  322BD23D287743ED    docked_bike 2020-08-20 18:08:14 2020-08-20 18:17:51   \n",
       "1  2A3AEF1AB9054D8B  electric_bike 2020-08-27 18:46:04 2020-08-27 19:54:51   \n",
       "2  67DC1D133E8B5816  electric_bike 2020-08-26 19:44:14 2020-08-26 21:53:07   \n",
       "3  C79FBBD412E578A7  electric_bike 2020-08-27 12:05:41 2020-08-27 12:53:45   \n",
       "4  13814D3D661ECADB  electric_bike 2020-08-27 16:49:02 2020-08-27 16:59:49   \n",
       "\n",
       "              start_station_name start_station_id          end_station_name  \\\n",
       "0  Lake Shore Dr & Diversey Pkwy              329    Clark St & Lincoln Ave   \n",
       "1         Michigan Ave & 14th St              168    Michigan Ave & 14th St   \n",
       "2      Columbus Dr & Randolph St              195    State St & Randolph St   \n",
       "3             Daley Center Plaza               81      State St & Kinzie St   \n",
       "4       Leavitt St & Division St              658  Leavitt St & Division St   \n",
       "\n",
       "  end_station_id  start_lat  start_lng  ...    end_lng  user_type  \\\n",
       "0            141  41.932588 -87.636427  ... -87.634600     member   \n",
       "1            168  41.864379 -87.623681  ... -87.623439     casual   \n",
       "2             44  41.884641 -87.619549  ... -87.627574     casual   \n",
       "3             47  41.884093 -87.629639  ... -87.627540     casual   \n",
       "4            658  41.902989 -87.683767  ... -87.683844     casual   \n",
       "\n",
       "        ride_time month  start_hour  day_of_week distance_estimate  \\\n",
       "0 0 days 00:09:37   8.0        18.0     Thursday              1.17   \n",
       "1 0 days 01:08:47   8.0        18.0     Thursday              0.02   \n",
       "2 0 days 02:08:53   8.0        19.0    Wednesday              0.41   \n",
       "3 0 days 00:48:04   8.0        12.0     Thursday              0.39   \n",
       "4 0 days 00:10:47   8.0        16.0     Thursday              0.00   \n",
       "\n",
       "   mph_estimate  returned_location        date  \n",
       "0      7.299827       new location  2020-08-20  \n",
       "1      0.017446       new location  2020-08-27  \n",
       "2      0.190870       new location  2020-08-26  \n",
       "3      0.486824       new location  2020-08-27  \n",
       "4      0.000000      same location  2020-08-27  \n",
       "\n",
       "[5 rows x 21 columns]"
      ]
     },
     "execution_count": 12,
     "metadata": {},
     "output_type": "execute_result"
    }
   ],
   "source": [
    "df.head()"
   ]
  },
  {
   "cell_type": "code",
   "execution_count": 13,
   "id": "d18bfe9e",
   "metadata": {},
   "outputs": [
    {
     "data": {
      "text/plain": [
       "ride_id                    0\n",
       "bike_type                  1\n",
       "started_at                12\n",
       "ended_at                  12\n",
       "start_station_name    369183\n",
       "start_station_id      369805\n",
       "end_station_name      407301\n",
       "end_station_id        407760\n",
       "start_lat                 12\n",
       "start_lng                 12\n",
       "end_lat                 5259\n",
       "end_lng                 5259\n",
       "user_type                  1\n",
       "ride_time                 12\n",
       "month                     12\n",
       "start_hour                12\n",
       "day_of_week               12\n",
       "distance_estimate       5259\n",
       "mph_estimate            5370\n",
       "returned_location          0\n",
       "date                      12\n",
       "dtype: int64"
      ]
     },
     "execution_count": 13,
     "metadata": {},
     "output_type": "execute_result"
    }
   ],
   "source": [
    "# Remove unreliable data\n",
    "# Check for null values\n",
    "df.isnull().sum()\n"
   ]
  },
  {
   "cell_type": "code",
   "execution_count": 14,
   "id": "5e30bc9b",
   "metadata": {},
   "outputs": [
    {
     "name": "stdout",
     "output_type": "stream",
     "text": [
      "2020-08-01 00:00:01\n",
      "2021-07-31 23:59:58\n"
     ]
    }
   ],
   "source": [
    "#Check timeframe of dataset.\n",
    "\n",
    "print(df.started_at.min())\n",
    "print(df.started_at.max())"
   ]
  },
  {
   "cell_type": "code",
   "execution_count": 15,
   "id": "318e53ff",
   "metadata": {},
   "outputs": [
    {
     "data": {
      "text/plain": [
       "(4731093, 21)"
      ]
     },
     "execution_count": 15,
     "metadata": {},
     "output_type": "execute_result"
    }
   ],
   "source": [
    "#Reorder columns.\n",
    "\n",
    "df = df[['date','ride_id', 'bike_type', 'started_at', 'ended_at', 'start_station_name',\n",
    "       'start_station_id', 'end_station_name', 'end_station_id', 'start_lat',\n",
    "       'start_lng', 'end_lat', 'end_lng', 'user_type', 'ride_time', 'month',\n",
    "       'start_hour', 'day_of_week', 'distance_estimate', 'mph_estimate',\n",
    "       'returned_location']]\n",
    "\n",
    "#Convert data type.\n",
    "\n",
    "df.date = pd.to_datetime(df.date)\n",
    "\n",
    "#Check total amount of datapoints before data cleaning.\n",
    "\n",
    "df.shape"
   ]
  },
  {
   "cell_type": "code",
   "execution_count": 16,
   "id": "a3462b91",
   "metadata": {},
   "outputs": [
    {
     "name": "stdout",
     "output_type": "stream",
     "text": [
      "Duplicates?\n",
      "\n",
      "(4731082, 21)\n",
      "Ending Coordinates?\n",
      "\n",
      "(4725834, 21)\n"
     ]
    }
   ],
   "source": [
    "#Duplicate data check.\n",
    "\n",
    "print('Duplicates?\\n')\n",
    "print(df.drop_duplicates(keep=False).shape)\n",
    "#Remove data without ending location coordinates.\n",
    "\n",
    "print('Ending Coordinates?\\n')\n",
    "df.dropna(subset=['end_lat','end_lng'],how='any',inplace=True)\n",
    "print(df.shape)"
   ]
  },
  {
   "cell_type": "code",
   "execution_count": 17,
   "id": "d09dd56b",
   "metadata": {},
   "outputs": [
    {
     "name": "stdout",
     "output_type": "stream",
     "text": [
      "Ride min,max, and mean?\n",
      "\n",
      "min           -21 days +19:50:02\n",
      "max             38 days 20:24:09\n",
      "mean   0 days 00:21:32.720205153\n",
      "Name: ride_time, dtype: timedelta64[ns]\n"
     ]
    }
   ],
   "source": [
    "#Check the min, max, and average of the dataset.\n",
    "\n",
    "print('Ride min,max, and mean?\\n')\n",
    "print(df.ride_time.agg(['min','max','mean']))"
   ]
  },
  {
   "cell_type": "code",
   "execution_count": 18,
   "id": "3a37411b",
   "metadata": {},
   "outputs": [
    {
     "name": "stdout",
     "output_type": "stream",
     "text": [
      "Less than 0 days or more than 1 day?\n",
      "\n",
      "(8574, 21)\n",
      "(1793, 21)\n"
     ]
    }
   ],
   "source": [
    "#Check data points that contain negative time duration and datapoints longer than 1 day\n",
    "print('Less than 0 days or more than 1 day?\\n')\n",
    "ts1 = dt.timedelta(days = 0)\n",
    "ts2 = dt.timedelta(days=1)\n",
    "print(df[df.ride_time <= ts1].shape)\n",
    "print(df[df.ride_time >= ts2].shape)\n"
   ]
  },
  {
   "cell_type": "code",
   "execution_count": 19,
   "id": "0bd47535",
   "metadata": {},
   "outputs": [
    {
     "name": "stdout",
     "output_type": "stream",
     "text": [
      "(4715924, 21)\n",
      "(4665914, 21)\n",
      "(4665898, 21)\n"
     ]
    }
   ],
   "source": [
    "#Remove data with negative time length durations and data with more than one day of the bicycle rented.\n",
    "\n",
    "df = df[df.ride_time >= ts1]\n",
    "df = df[df.ride_time <= ts2]\n",
    "print(df.shape)\n",
    "#Convert ride time into minutes rounded to nearest whole minute.\n",
    "\n",
    "df.ride_time = df.ride_time.dt.total_seconds()/60\n",
    "df.ride_time = df.ride_time.round()\n",
    "#Remove rides that are less than 1 minute in duration.\n",
    "df = df[df.ride_time >= 1]\n",
    "print(df.shape)\n",
    "\n",
    "#Remove rides where estimated mph is over 85 miles per hour.\n",
    "df = df[df.mph_estimate <= 85]\n",
    "print(df.shape)"
   ]
  },
  {
   "cell_type": "code",
   "execution_count": 20,
   "id": "0ce907d4",
   "metadata": {},
   "outputs": [
    {
     "data": {
      "text/plain": [
       "min   2020-08-01 00:00:01\n",
       "max   2021-07-31 23:59:58\n",
       "Name: started_at, dtype: datetime64[ns]"
      ]
     },
     "execution_count": 20,
     "metadata": {},
     "output_type": "execute_result"
    }
   ],
   "source": [
    "#View timeframe of dataset.\n",
    "\n",
    "df.started_at.agg(['min','max'])"
   ]
  },
  {
   "cell_type": "code",
   "execution_count": 21,
   "id": "87974044",
   "metadata": {},
   "outputs": [
    {
     "data": {
      "text/plain": [
       "(4665898, 21)"
      ]
     },
     "execution_count": 21,
     "metadata": {},
     "output_type": "execute_result"
    }
   ],
   "source": [
    "df.shape"
   ]
  },
  {
   "cell_type": "code",
   "execution_count": 22,
   "id": "01b784c2",
   "metadata": {},
   "outputs": [
    {
     "data": {
      "text/plain": [
       "member    56.0\n",
       "casual    44.0\n",
       "Name: user_type, dtype: float64"
      ]
     },
     "execution_count": 22,
     "metadata": {},
     "output_type": "execute_result"
    }
   ],
   "source": [
    "# Exploratory Analysis\n",
    "#Percentage of rides taken by user type.\n",
    "df.user_type.value_counts(normalize=True).round(2)*100"
   ]
  },
  {
   "cell_type": "code",
   "execution_count": 23,
   "id": "a59c7cd5",
   "metadata": {},
   "outputs": [
    {
     "data": {
      "text/plain": [
       "user_type\n",
       "casual    31.0\n",
       "member    14.0\n",
       "Name: ride_time, dtype: float64"
      ]
     },
     "execution_count": 23,
     "metadata": {},
     "output_type": "execute_result"
    }
   ],
   "source": [
    "#Average user ride time in minutes.\n",
    "df.groupby(['user_type']).ride_time.mean().round()"
   ]
  },
  {
   "cell_type": "code",
   "execution_count": 24,
   "id": "65a8cee0",
   "metadata": {},
   "outputs": [
    {
     "data": {
      "text/plain": [
       "user_type  bike_type    \n",
       "casual     docked_bike      36.0\n",
       "           classic_bike     33.0\n",
       "           electric_bike    31.0\n",
       "member     classic_bike     42.0\n",
       "           docked_bike      30.0\n",
       "           electric_bike    28.0\n",
       "Name: bike_type, dtype: float64"
      ]
     },
     "execution_count": 24,
     "metadata": {},
     "output_type": "execute_result"
    }
   ],
   "source": [
    "#Bike preferences as a percentage of their respective user type.\n",
    "df3=df.groupby(['user_type']).bike_type.value_counts(normalize=True).round(2)*100\n",
    "df3\n"
   ]
  },
  {
   "cell_type": "code",
   "execution_count": 25,
   "id": "e5ad03e6",
   "metadata": {},
   "outputs": [
    {
     "data": {
      "text/plain": [
       "user_type  bike_type    \n",
       "member     electric_bike    13.77\n",
       "           classic_bike     14.40\n",
       "           docked_bike      15.22\n",
       "casual     electric_bike    21.96\n",
       "           classic_bike     27.75\n",
       "           docked_bike      40.54\n",
       "Name: ride_time, dtype: float64"
      ]
     },
     "execution_count": 25,
     "metadata": {},
     "output_type": "execute_result"
    }
   ],
   "source": [
    "#Average user ride time in minutes by bike type.\n",
    "df.groupby(['user_type','bike_type']).ride_time.mean().round(2).sort_values()"
   ]
  },
  {
   "cell_type": "markdown",
   "id": "89d43330",
   "metadata": {},
   "source": [
    "It looks like members and casual users have the quickest bike ride with electric_bikes.However when we look at the gap between the fastest and slowest ride it looks like members have a very slight difference because of their frequent tendency to go biking when compared to casual riders.Members are more fit, whereas casual riders make use of electric bikes to commute fast."
   ]
  },
  {
   "cell_type": "code",
   "execution_count": 26,
   "id": "6c00c1b2",
   "metadata": {},
   "outputs": [
    {
     "data": {
      "text/plain": [
       "user_type\n",
       "member    1.395945\n",
       "casual    1.404354\n",
       "Name: distance_estimate, dtype: float64"
      ]
     },
     "execution_count": 26,
     "metadata": {},
     "output_type": "execute_result"
    }
   ],
   "source": [
    "#Average distance traveled.\n",
    "df.groupby(['user_type']).distance_estimate.mean().sort_values()"
   ]
  },
  {
   "cell_type": "markdown",
   "id": "5e6d828b",
   "metadata": {},
   "source": [
    "Looks like both the user types travel the same distance. "
   ]
  },
  {
   "cell_type": "code",
   "execution_count": 27,
   "id": "f0ad22b0",
   "metadata": {},
   "outputs": [
    {
     "data": {
      "text/plain": [
       "user_type\n",
       "casual    4.68\n",
       "member    6.56\n",
       "Name: mph_estimate, dtype: float64"
      ]
     },
     "execution_count": 27,
     "metadata": {},
     "output_type": "execute_result"
    }
   ],
   "source": [
    "#Average user mph.\n",
    "df3=df.groupby(['user_type']).mph_estimate.mean().round(2)\n",
    "df3"
   ]
  },
  {
   "cell_type": "markdown",
   "id": "0ddd04b1",
   "metadata": {},
   "source": [
    "This is a noticeable difference between the 2 groups which can be clearly visualized by a bar graph\n"
   ]
  },
  {
   "cell_type": "code",
   "execution_count": 28,
   "id": "7d086980",
   "metadata": {},
   "outputs": [
    {
     "data": {
      "text/plain": [
       "user_type  bike_type    \n",
       "casual     docked_bike      3.69\n",
       "           classic_bike     4.49\n",
       "           electric_bike    6.05\n",
       "member     docked_bike      6.12\n",
       "           classic_bike     6.15\n",
       "           electric_bike    7.64\n",
       "Name: mph_estimate, dtype: float64"
      ]
     },
     "execution_count": 28,
     "metadata": {},
     "output_type": "execute_result"
    }
   ],
   "source": [
    "#User speed by bike type.\n",
    "df.groupby(['user_type','bike_type']).mph_estimate.mean().round(2).sort_values()"
   ]
  },
  {
   "cell_type": "markdown",
   "id": "0a8f7814",
   "metadata": {},
   "source": [
    "casual users are slower than members and electric bikes are the fastest in both the groups."
   ]
  },
  {
   "cell_type": "code",
   "execution_count": 29,
   "id": "b832e77a",
   "metadata": {},
   "outputs": [
    {
     "data": {
      "text/html": [
       "<div>\n",
       "<style scoped>\n",
       "    .dataframe tbody tr th:only-of-type {\n",
       "        vertical-align: middle;\n",
       "    }\n",
       "\n",
       "    .dataframe tbody tr th {\n",
       "        vertical-align: top;\n",
       "    }\n",
       "\n",
       "    .dataframe thead th {\n",
       "        text-align: right;\n",
       "    }\n",
       "</style>\n",
       "<table border=\"1\" class=\"dataframe\">\n",
       "  <thead>\n",
       "    <tr style=\"text-align: right;\">\n",
       "      <th>day_of_week</th>\n",
       "      <th>Friday</th>\n",
       "      <th>Monday</th>\n",
       "      <th>Saturday</th>\n",
       "      <th>Sunday</th>\n",
       "      <th>Thursday</th>\n",
       "      <th>Tuesday</th>\n",
       "      <th>Wednesday</th>\n",
       "    </tr>\n",
       "    <tr>\n",
       "      <th>user_type</th>\n",
       "      <th></th>\n",
       "      <th></th>\n",
       "      <th></th>\n",
       "      <th></th>\n",
       "      <th></th>\n",
       "      <th></th>\n",
       "      <th></th>\n",
       "    </tr>\n",
       "  </thead>\n",
       "  <tbody>\n",
       "    <tr>\n",
       "      <th>casual</th>\n",
       "      <td>14.0</td>\n",
       "      <td>11.0</td>\n",
       "      <td>23.0</td>\n",
       "      <td>19.0</td>\n",
       "      <td>11.0</td>\n",
       "      <td>11.0</td>\n",
       "      <td>11.0</td>\n",
       "    </tr>\n",
       "    <tr>\n",
       "      <th>member</th>\n",
       "      <td>15.0</td>\n",
       "      <td>13.0</td>\n",
       "      <td>15.0</td>\n",
       "      <td>13.0</td>\n",
       "      <td>14.0</td>\n",
       "      <td>14.0</td>\n",
       "      <td>15.0</td>\n",
       "    </tr>\n",
       "  </tbody>\n",
       "</table>\n",
       "</div>"
      ],
      "text/plain": [
       "day_of_week  Friday  Monday  Saturday  Sunday  Thursday  Tuesday  Wednesday\n",
       "user_type                                                                  \n",
       "casual         14.0    11.0      23.0    19.0      11.0     11.0       11.0\n",
       "member         15.0    13.0      15.0    13.0      14.0     14.0       15.0"
      ]
     },
     "execution_count": 29,
     "metadata": {},
     "output_type": "execute_result"
    }
   ],
   "source": [
    "#Day of week preference as a percentage of their respective user type.\n",
    "df.groupby(['user_type']).day_of_week.value_counts(normalize=True).round(2).unstack()*100"
   ]
  },
  {
   "cell_type": "markdown",
   "id": "5890b2f7",
   "metadata": {},
   "source": [
    "Big difference between the groups here. More than 40% of rides for Casual riders take place on weekends whereas members do not show significant difference on any day of the week."
   ]
  },
  {
   "cell_type": "code",
   "execution_count": 30,
   "id": "71205a20",
   "metadata": {},
   "outputs": [
    {
     "data": {
      "text/html": [
       "<div>\n",
       "<style scoped>\n",
       "    .dataframe tbody tr th:only-of-type {\n",
       "        vertical-align: middle;\n",
       "    }\n",
       "\n",
       "    .dataframe tbody tr th {\n",
       "        vertical-align: top;\n",
       "    }\n",
       "\n",
       "    .dataframe thead th {\n",
       "        text-align: right;\n",
       "    }\n",
       "</style>\n",
       "<table border=\"1\" class=\"dataframe\">\n",
       "  <thead>\n",
       "    <tr style=\"text-align: right;\">\n",
       "      <th>user_type</th>\n",
       "      <th>casual</th>\n",
       "      <th>member</th>\n",
       "    </tr>\n",
       "    <tr>\n",
       "      <th>day_of_week</th>\n",
       "      <th></th>\n",
       "      <th></th>\n",
       "    </tr>\n",
       "  </thead>\n",
       "  <tbody>\n",
       "    <tr>\n",
       "      <th>Monday</th>\n",
       "      <td>31.0</td>\n",
       "      <td>14.0</td>\n",
       "    </tr>\n",
       "    <tr>\n",
       "      <th>Tuesday</th>\n",
       "      <td>28.0</td>\n",
       "      <td>14.0</td>\n",
       "    </tr>\n",
       "    <tr>\n",
       "      <th>Wednesday</th>\n",
       "      <td>27.0</td>\n",
       "      <td>14.0</td>\n",
       "    </tr>\n",
       "    <tr>\n",
       "      <th>Thursday</th>\n",
       "      <td>26.0</td>\n",
       "      <td>14.0</td>\n",
       "    </tr>\n",
       "    <tr>\n",
       "      <th>Friday</th>\n",
       "      <td>28.0</td>\n",
       "      <td>14.0</td>\n",
       "    </tr>\n",
       "    <tr>\n",
       "      <th>Saturday</th>\n",
       "      <td>33.0</td>\n",
       "      <td>16.0</td>\n",
       "    </tr>\n",
       "    <tr>\n",
       "      <th>Sunday</th>\n",
       "      <td>35.0</td>\n",
       "      <td>16.0</td>\n",
       "    </tr>\n",
       "  </tbody>\n",
       "</table>\n",
       "</div>"
      ],
      "text/plain": [
       "user_type    casual  member\n",
       "day_of_week                \n",
       "Monday         31.0    14.0\n",
       "Tuesday        28.0    14.0\n",
       "Wednesday      27.0    14.0\n",
       "Thursday       26.0    14.0\n",
       "Friday         28.0    14.0\n",
       "Saturday       33.0    16.0\n",
       "Sunday         35.0    16.0"
      ]
     },
     "execution_count": 30,
     "metadata": {},
     "output_type": "execute_result"
    }
   ],
   "source": [
    "#Average user ride time in minutes by day of week.\n",
    "df.groupby(['day_of_week','user_type']).ride_time.mean().sort_values(ascending = True).round().unstack().reindex(['Monday','Tuesday','Wednesday','Thursday','Friday','Saturday','Sunday'])"
   ]
  },
  {
   "cell_type": "markdown",
   "id": "57fff87a",
   "metadata": {},
   "source": [
    "Weekends have the longest ride time, although not much of user type."
   ]
  },
  {
   "cell_type": "code",
   "execution_count": 31,
   "id": "8c9673af",
   "metadata": {},
   "outputs": [
    {
     "data": {
      "text/html": [
       "<div>\n",
       "<style scoped>\n",
       "    .dataframe tbody tr th:only-of-type {\n",
       "        vertical-align: middle;\n",
       "    }\n",
       "\n",
       "    .dataframe tbody tr th {\n",
       "        vertical-align: top;\n",
       "    }\n",
       "\n",
       "    .dataframe thead th {\n",
       "        text-align: right;\n",
       "    }\n",
       "</style>\n",
       "<table border=\"1\" class=\"dataframe\">\n",
       "  <thead>\n",
       "    <tr style=\"text-align: right;\">\n",
       "      <th>returned_location</th>\n",
       "      <th>new location</th>\n",
       "      <th>same location</th>\n",
       "    </tr>\n",
       "    <tr>\n",
       "      <th>user_type</th>\n",
       "      <th></th>\n",
       "      <th></th>\n",
       "    </tr>\n",
       "  </thead>\n",
       "  <tbody>\n",
       "    <tr>\n",
       "      <th>casual</th>\n",
       "      <td>82.0</td>\n",
       "      <td>18.0</td>\n",
       "    </tr>\n",
       "    <tr>\n",
       "      <th>member</th>\n",
       "      <td>95.0</td>\n",
       "      <td>5.0</td>\n",
       "    </tr>\n",
       "  </tbody>\n",
       "</table>\n",
       "</div>"
      ],
      "text/plain": [
       "returned_location  new location  same location\n",
       "user_type                                     \n",
       "casual                     82.0           18.0\n",
       "member                     95.0            5.0"
      ]
     },
     "execution_count": 31,
     "metadata": {},
     "output_type": "execute_result"
    }
   ],
   "source": [
    "#The percentage of when a user will return the docked bicycle to a new location or the same location.\n",
    "df[df.bike_type=='docked_bike'].groupby(['user_type']).returned_location.value_counts(normalize=True).round(2).unstack()*100"
   ]
  },
  {
   "cell_type": "markdown",
   "id": "27ace556",
   "metadata": {},
   "source": [
    "Casual riders are almost four times more likely to return a bike compared to the members.\n",
    "I would think this return to start location habit is more likely with the casual users because of the two types of Cyclistic casual passes:\n",
    "\n",
    "1. Single-Ride Pass\n",
    "2. Full-Day pass\n",
    "\n",
    "I would like to see one more thing about the return location figures."
   ]
  },
  {
   "cell_type": "code",
   "execution_count": 32,
   "id": "877d7855",
   "metadata": {},
   "outputs": [
    {
     "data": {
      "text/plain": [
       "user_type  returned_location\n",
       "casual     new location         27.67\n",
       "           same location        52.85\n",
       "member     new location         14.26\n",
       "           same location        19.41\n",
       "Name: ride_time, dtype: float64"
      ]
     },
     "execution_count": 32,
     "metadata": {},
     "output_type": "execute_result"
    }
   ],
   "source": [
    "df.groupby(['user_type','returned_location']).ride_time.mean().round(2)"
   ]
  },
  {
   "cell_type": "markdown",
   "id": "907b90b4",
   "metadata": {},
   "source": [
    "The average ride time for casual users who return to their starting location take about twice as long as casual users going to a new location. Knowing that the average ride time for a casual user is 25 minutes, it seems that casual users returning to the same location are making a round trip ride.\n",
    "\n",
    "Members, however, do not show this trend of taking twice as long in their speculated 'round trip' visit. Members must have different habits when they return a bike to the same location."
   ]
  },
  {
   "cell_type": "code",
   "execution_count": 33,
   "id": "0ef2e470",
   "metadata": {},
   "outputs": [
    {
     "data": {
      "text/plain": [
       "user_type  month\n",
       "casual     1.0       1.0\n",
       "           2.0       0.0\n",
       "           3.0       4.0\n",
       "           4.0       7.0\n",
       "           5.0      12.0\n",
       "           6.0      18.0\n",
       "           7.0      21.0\n",
       "           8.0      14.0\n",
       "           9.0      11.0\n",
       "           10.0      7.0\n",
       "           11.0      4.0\n",
       "           12.0      1.0\n",
       "member     1.0       3.0\n",
       "           2.0       1.0\n",
       "           3.0       6.0\n",
       "           4.0       8.0\n",
       "           5.0      10.0\n",
       "           6.0      14.0\n",
       "           7.0      15.0\n",
       "           8.0      13.0\n",
       "           9.0      11.0\n",
       "           10.0      9.0\n",
       "           11.0      7.0\n",
       "           12.0      4.0\n",
       "Name: month, dtype: float64"
      ]
     },
     "execution_count": 33,
     "metadata": {},
     "output_type": "execute_result"
    }
   ],
   "source": [
    "#Percentage of rides by month by respective user type.\n",
    "df.groupby(['user_type']).month.value_counts(normalize=True).round(2).sort_index()*100"
   ]
  },
  {
   "cell_type": "markdown",
   "id": "823455a9",
   "metadata": {},
   "source": [
    "All users prefer riding from May through September. This should be because of the weather in Chicago."
   ]
  },
  {
   "cell_type": "code",
   "execution_count": 34,
   "id": "cd419eaa",
   "metadata": {},
   "outputs": [
    {
     "data": {
      "text/plain": [
       "user_type  start_hour\n",
       "casual     0.0            2.0\n",
       "           1.0            1.0\n",
       "           2.0            1.0\n",
       "           3.0            0.0\n",
       "           4.0            0.0\n",
       "           5.0            0.0\n",
       "           6.0            1.0\n",
       "           7.0            2.0\n",
       "           8.0            2.0\n",
       "           9.0            3.0\n",
       "           10.0           4.0\n",
       "           11.0           5.0\n",
       "           12.0           7.0\n",
       "           13.0           7.0\n",
       "           14.0           7.0\n",
       "           15.0           8.0\n",
       "           16.0           8.0\n",
       "           17.0          10.0\n",
       "           18.0           9.0\n",
       "           19.0           7.0\n",
       "           20.0           5.0\n",
       "           21.0           4.0\n",
       "           22.0           4.0\n",
       "           23.0           3.0\n",
       "member     0.0            1.0\n",
       "           1.0            1.0\n",
       "           2.0            0.0\n",
       "           3.0            0.0\n",
       "           4.0            0.0\n",
       "           5.0            1.0\n",
       "           6.0            3.0\n",
       "           7.0            5.0\n",
       "           8.0            5.0\n",
       "           9.0            4.0\n",
       "           10.0           4.0\n",
       "           11.0           5.0\n",
       "           12.0           6.0\n",
       "           13.0           6.0\n",
       "           14.0           6.0\n",
       "           15.0           7.0\n",
       "           16.0           9.0\n",
       "           17.0          11.0\n",
       "           18.0           9.0\n",
       "           19.0           6.0\n",
       "           20.0           4.0\n",
       "           21.0           3.0\n",
       "           22.0           2.0\n",
       "           23.0           1.0\n",
       "Name: start_hour, dtype: float64"
      ]
     },
     "execution_count": 34,
     "metadata": {},
     "output_type": "execute_result"
    }
   ],
   "source": [
    "#Percentage of rides taken by starting hour.\n",
    "df.groupby(['user_type']).start_hour.value_counts(normalize=True).round(2).sort_index()*100"
   ]
  },
  {
   "cell_type": "markdown",
   "id": "7931f401",
   "metadata": {},
   "source": [
    "Both user types have lots of start times from 3pm to 7 pm. This can be visualized using a heatmap."
   ]
  },
  {
   "cell_type": "code",
   "execution_count": 35,
   "id": "bdda4ed1",
   "metadata": {},
   "outputs": [
    {
     "data": {
      "text/html": [
       "<div>\n",
       "<style scoped>\n",
       "    .dataframe tbody tr th:only-of-type {\n",
       "        vertical-align: middle;\n",
       "    }\n",
       "\n",
       "    .dataframe tbody tr th {\n",
       "        vertical-align: top;\n",
       "    }\n",
       "\n",
       "    .dataframe thead th {\n",
       "        text-align: right;\n",
       "    }\n",
       "</style>\n",
       "<table border=\"1\" class=\"dataframe\">\n",
       "  <thead>\n",
       "    <tr style=\"text-align: right;\">\n",
       "      <th></th>\n",
       "      <th>bike_type</th>\n",
       "      <th>classic_bike</th>\n",
       "      <th>docked_bike</th>\n",
       "      <th>electric_bike</th>\n",
       "    </tr>\n",
       "    <tr>\n",
       "      <th>month</th>\n",
       "      <th>user_type</th>\n",
       "      <th></th>\n",
       "      <th></th>\n",
       "      <th></th>\n",
       "    </tr>\n",
       "  </thead>\n",
       "  <tbody>\n",
       "    <tr>\n",
       "      <th rowspan=\"2\" valign=\"top\">1.0</th>\n",
       "      <th>casual</th>\n",
       "      <td>8206.0</td>\n",
       "      <td>2078.0</td>\n",
       "      <td>7618.0</td>\n",
       "    </tr>\n",
       "    <tr>\n",
       "      <th>member</th>\n",
       "      <td>52957.0</td>\n",
       "      <td>1.0</td>\n",
       "      <td>24947.0</td>\n",
       "    </tr>\n",
       "    <tr>\n",
       "      <th rowspan=\"2\" valign=\"top\">2.0</th>\n",
       "      <th>casual</th>\n",
       "      <td>5592.0</td>\n",
       "      <td>1246.0</td>\n",
       "      <td>3118.0</td>\n",
       "    </tr>\n",
       "    <tr>\n",
       "      <th>member</th>\n",
       "      <td>28802.0</td>\n",
       "      <td>0.0</td>\n",
       "      <td>10020.0</td>\n",
       "    </tr>\n",
       "    <tr>\n",
       "      <th rowspan=\"2\" valign=\"top\">3.0</th>\n",
       "      <th>casual</th>\n",
       "      <td>45216.0</td>\n",
       "      <td>15516.0</td>\n",
       "      <td>22543.0</td>\n",
       "    </tr>\n",
       "    <tr>\n",
       "      <th>member</th>\n",
       "      <td>106041.0</td>\n",
       "      <td>0.0</td>\n",
       "      <td>37013.0</td>\n",
       "    </tr>\n",
       "    <tr>\n",
       "      <th rowspan=\"2\" valign=\"top\">4.0</th>\n",
       "      <th>casual</th>\n",
       "      <td>70222.0</td>\n",
       "      <td>24520.0</td>\n",
       "      <td>40528.0</td>\n",
       "    </tr>\n",
       "    <tr>\n",
       "      <th>member</th>\n",
       "      <td>142349.0</td>\n",
       "      <td>0.0</td>\n",
       "      <td>56021.0</td>\n",
       "    </tr>\n",
       "    <tr>\n",
       "      <th rowspan=\"2\" valign=\"top\">5.0</th>\n",
       "      <th>casual</th>\n",
       "      <td>122817.0</td>\n",
       "      <td>42958.0</td>\n",
       "      <td>88272.0</td>\n",
       "    </tr>\n",
       "    <tr>\n",
       "      <th>member</th>\n",
       "      <td>183067.0</td>\n",
       "      <td>0.0</td>\n",
       "      <td>88264.0</td>\n",
       "    </tr>\n",
       "    <tr>\n",
       "      <th rowspan=\"2\" valign=\"top\">6.0</th>\n",
       "      <th>casual</th>\n",
       "      <td>186397.0</td>\n",
       "      <td>51250.0</td>\n",
       "      <td>128576.0</td>\n",
       "    </tr>\n",
       "    <tr>\n",
       "      <th>member</th>\n",
       "      <td>244068.0</td>\n",
       "      <td>0.0</td>\n",
       "      <td>110571.0</td>\n",
       "    </tr>\n",
       "    <tr>\n",
       "      <th rowspan=\"2\" valign=\"top\">7.0</th>\n",
       "      <th>casual</th>\n",
       "      <td>239376.0</td>\n",
       "      <td>57285.0</td>\n",
       "      <td>140767.0</td>\n",
       "    </tr>\n",
       "    <tr>\n",
       "      <th>member</th>\n",
       "      <td>262505.0</td>\n",
       "      <td>0.0</td>\n",
       "      <td>113471.0</td>\n",
       "    </tr>\n",
       "    <tr>\n",
       "      <th rowspan=\"2\" valign=\"top\">8.0</th>\n",
       "      <th>casual</th>\n",
       "      <td>0.0</td>\n",
       "      <td>258020.0</td>\n",
       "      <td>26648.0</td>\n",
       "    </tr>\n",
       "    <tr>\n",
       "      <th>member</th>\n",
       "      <td>0.0</td>\n",
       "      <td>289329.0</td>\n",
       "      <td>37116.0</td>\n",
       "    </tr>\n",
       "    <tr>\n",
       "      <th rowspan=\"2\" valign=\"top\">9.0</th>\n",
       "      <th>casual</th>\n",
       "      <td>0.0</td>\n",
       "      <td>169586.0</td>\n",
       "      <td>57666.0</td>\n",
       "    </tr>\n",
       "    <tr>\n",
       "      <th>member</th>\n",
       "      <td>0.0</td>\n",
       "      <td>228024.0</td>\n",
       "      <td>68503.0</td>\n",
       "    </tr>\n",
       "    <tr>\n",
       "      <th rowspan=\"2\" valign=\"top\">10.0</th>\n",
       "      <th>casual</th>\n",
       "      <td>0.0</td>\n",
       "      <td>78584.0</td>\n",
       "      <td>63664.0</td>\n",
       "    </tr>\n",
       "    <tr>\n",
       "      <th>member</th>\n",
       "      <td>0.0</td>\n",
       "      <td>152870.0</td>\n",
       "      <td>85898.0</td>\n",
       "    </tr>\n",
       "    <tr>\n",
       "      <th rowspan=\"2\" valign=\"top\">11.0</th>\n",
       "      <th>casual</th>\n",
       "      <td>0.0</td>\n",
       "      <td>45405.0</td>\n",
       "      <td>41516.0</td>\n",
       "    </tr>\n",
       "    <tr>\n",
       "      <th>member</th>\n",
       "      <td>0.0</td>\n",
       "      <td>103601.0</td>\n",
       "      <td>65374.0</td>\n",
       "    </tr>\n",
       "    <tr>\n",
       "      <th rowspan=\"2\" valign=\"top\">12.0</th>\n",
       "      <th>casual</th>\n",
       "      <td>11233.0</td>\n",
       "      <td>4894.0</td>\n",
       "      <td>13591.0</td>\n",
       "    </tr>\n",
       "    <tr>\n",
       "      <th>member</th>\n",
       "      <td>58791.0</td>\n",
       "      <td>7686.0</td>\n",
       "      <td>33701.0</td>\n",
       "    </tr>\n",
       "  </tbody>\n",
       "</table>\n",
       "</div>"
      ],
      "text/plain": [
       "bike_type        classic_bike  docked_bike  electric_bike\n",
       "month user_type                                          \n",
       "1.0   casual           8206.0       2078.0         7618.0\n",
       "      member          52957.0          1.0        24947.0\n",
       "2.0   casual           5592.0       1246.0         3118.0\n",
       "      member          28802.0          0.0        10020.0\n",
       "3.0   casual          45216.0      15516.0        22543.0\n",
       "      member         106041.0          0.0        37013.0\n",
       "4.0   casual          70222.0      24520.0        40528.0\n",
       "      member         142349.0          0.0        56021.0\n",
       "5.0   casual         122817.0      42958.0        88272.0\n",
       "      member         183067.0          0.0        88264.0\n",
       "6.0   casual         186397.0      51250.0       128576.0\n",
       "      member         244068.0          0.0       110571.0\n",
       "7.0   casual         239376.0      57285.0       140767.0\n",
       "      member         262505.0          0.0       113471.0\n",
       "8.0   casual              0.0     258020.0        26648.0\n",
       "      member              0.0     289329.0        37116.0\n",
       "9.0   casual              0.0     169586.0        57666.0\n",
       "      member              0.0     228024.0        68503.0\n",
       "10.0  casual              0.0      78584.0        63664.0\n",
       "      member              0.0     152870.0        85898.0\n",
       "11.0  casual              0.0      45405.0        41516.0\n",
       "      member              0.0     103601.0        65374.0\n",
       "12.0  casual          11233.0       4894.0        13591.0\n",
       "      member          58791.0       7686.0        33701.0"
      ]
     },
     "execution_count": 35,
     "metadata": {},
     "output_type": "execute_result"
    }
   ],
   "source": [
    "#Bike preference by month\n",
    "df.groupby(['month','user_type','bike_type']).ride_id.count().unstack().fillna(0)"
   ]
  },
  {
   "cell_type": "markdown",
   "id": "47d231fc",
   "metadata": {},
   "source": [
    "Conclusion: Similarities and Differences.\n",
    "\n",
    "During this analysis, I was able to find out interesting differences between the casual user and the annual member. We learned that the average ride duration, the average speed traveled, the day of week riding preferences, and the return location exhibit different patterns between our two groups. What was also surprising to discover was the amount of similarities between both groups. The bike type preferences made any given month, the average distance traveled, and the prefered riding months were strikingly similiar."
   ]
  },
  {
   "cell_type": "markdown",
   "id": "67ca1457",
   "metadata": {},
   "source": [
    "Visualizations:\n",
    "\n",
    "Lily Moreno, Marketing Director, believes that Cyclistic's success will rely on maximizing the number of annual membership subscriptions. With that objective in mind, I have discovered relationships that will aid the marketing department for their first targeted marketing campaign. Let's begin by discussing the differences between the casual user and the annual member.\n"
   ]
  },
  {
   "cell_type": "code",
   "execution_count": 36,
   "id": "a4c4c5c8",
   "metadata": {},
   "outputs": [
    {
     "data": {
      "image/png": "[encoded data removed]",
      "text/plain": [
       "<Figure size 432x288 with 1 Axes>"
      ]
     },
     "metadata": {
      "needs_background": "light"
     },
     "output_type": "display_data"
    }
   ],
   "source": [
    "#How do casual users and annual members differ?\n",
    "#Average ride time graph.\n",
    "sns.barplot(x='user_type',y='ride_time',data=df)\n",
    "plt.suptitle('Average ride time',fontsize=20)\n",
    "plt.show()"
   ]
  },
  {
   "cell_type": "markdown",
   "id": "399d0e1e",
   "metadata": {},
   "source": [
    "Casual riders ride an average of 30 minutes while a member ride an average of 15 minutes. This could be because casual riders ride more distance than the members. To understand that lets take a look at the distance covered by both the users."
   ]
  },
  {
   "cell_type": "code",
   "execution_count": 37,
   "id": "b2c83af4",
   "metadata": {},
   "outputs": [
    {
     "data": {
      "image/png": "[encoded data removed]",
      "text/plain": [
       "<Figure size 432x288 with 1 Axes>"
      ]
     },
     "metadata": {
      "needs_background": "light"
     },
     "output_type": "display_data"
    }
   ],
   "source": [
    "#Average distance covered\n",
    "sns.barplot(x='user_type',y='distance_estimate',data=df)\n",
    "plt.suptitle('Average distance covered',fontsize=20)\n",
    "plt.show()"
   ]
  },
  {
   "cell_type": "markdown",
   "id": "76174741",
   "metadata": {},
   "source": [
    "Both riders cover almost same distance on average.\n",
    "\n",
    "Although casual users average ride duration is more than twice as long than the annual members ride duration, casual users do not appear to ride further than members.\n",
    "\n",
    "Let's clarify this riding pattern and review the average ride speed."
   ]
  },
  {
   "cell_type": "code",
   "execution_count": 38,
   "id": "cc4e5ada",
   "metadata": {},
   "outputs": [
    {
     "data": {
      "image/png": "[encoded data removed]",
      "text/plain": [
       "<Figure size 432x288 with 1 Axes>"
      ]
     },
     "metadata": {
      "needs_background": "light"
     },
     "output_type": "display_data"
    }
   ],
   "source": [
    "#Average ride speed\n",
    "sns.barplot(x='user_type',y='mph_estimate',data=df)\n",
    "plt.suptitle('Average ride speed',fontsize=20)\n",
    "plt.show()"
   ]
  },
  {
   "cell_type": "markdown",
   "id": "8ceb22ce",
   "metadata": {},
   "source": [
    "A casual user will travel at 4.68 MPH while a member will travel at 6.56 MPH. This means the average member travels ~48% faster than the average casual user.\n",
    "\n",
    "This is beginning to paint a picture of the average casual user and their respective riding habits on an individual level. Let's examine more broad patterns."
   ]
  },
  {
   "cell_type": "code",
   "execution_count": 39,
   "id": "2939e36d",
   "metadata": {},
   "outputs": [
    {
     "data": {
      "image/png": "[encoded data removed]",
      "text/plain": [
       "<Figure size 432x288 with 1 Axes>"
      ]
     },
     "metadata": {
      "needs_background": "light"
     },
     "output_type": "display_data"
    }
   ],
   "source": [
    "#Ridership by day of week graph.\n",
    "\n",
    "df.groupby(['day_of_week','user_type']).ride_id.count().unstack().reindex(['Monday','Tuesday','Wednesday','Thursday','Friday','Saturday','Sunday']).plot(kind='bar')\n",
    "\n",
    "plt.suptitle('Ride Preference by Day of Week',fontsize=20)\n",
    "plt.xlabel('Day of Week',fontsize=15)\n",
    "plt.ylabel('Total Rides',fontsize=15)\n",
    "\n",
    "# plt.grid(True,color='gray',linestyle=(0, (2, 10)))\n",
    "plt.legend(title='User Type',bbox_to_anchor=(1,1), loc=\"upper left\")\n",
    "plt.show()"
   ]
  },
  {
   "cell_type": "code",
   "execution_count": 40,
   "id": "ec1e4af8",
   "metadata": {},
   "outputs": [
    {
     "data": {
      "image/png": "[encoded data removed]",
      "text/plain": [
       "<Figure size 1080x576 with 4 Axes>"
      ]
     },
     "metadata": {
      "needs_background": "light"
     },
     "output_type": "display_data"
    }
   ],
   "source": [
    "#Start Time Heatmap\n",
    "\n",
    "dfc = df[df.user_type == 'casual']\n",
    "dfm = df[df.user_type == 'member']\n",
    "\n",
    "dfc_hm = dfc.groupby(['start_hour','day_of_week']).ride_id.count().unstack().T.reindex().reindex(['Monday','Tuesday','Wednesday','Thursday','Friday','Saturday','Sunday'])\n",
    "dfm_hm = dfm.groupby(['start_hour','day_of_week']).ride_id.count().unstack().T.reindex().reindex(['Monday','Tuesday','Wednesday','Thursday','Friday','Saturday','Sunday'])\n",
    "\n",
    "fig, (ax1, ax2) = plt.subplots(2,1, figsize = (15, 8))\n",
    "sns.heatmap(data = dfc_hm,cmap='vlag',ax=ax1,cbar_kws={'label':'Casual User Rides'})\n",
    "sns.heatmap(data = dfm_hm,cmap='vlag',ax=ax2,cbar_kws={'label':'Member Rides'})\n",
    "\n",
    "ax1.set_title(\"Casual User's Start Time\",fontsize=15)\n",
    "ax2.set_title(\"Member's Start Time\",fontsize=15)\n",
    "\n",
    "ax1.set_xlabel('Time of Day',fontsize=12)\n",
    "ax1.set_ylabel('Day of Week',fontsize=12)\n",
    "\n",
    "ax2.set_xlabel('Time of Day',fontsize=12)\n",
    "ax2.set_ylabel('Day of Week',fontsize=12)\n",
    "\n",
    "plt.suptitle('Start Time Heatmap',fontsize=20,va='center')\n",
    "plt.tight_layout()\n",
    "plt.show()\n"
   ]
  },
  {
   "cell_type": "markdown",
   "id": "cd5f1f7f",
   "metadata": {},
   "source": [
    "Casual users show a concentration of riding on weekends during the hours of 11 am to 6 pm.\n",
    "\n",
    "Members show a concentration of riding on weekedays between 4 pm and 6 pm. Additionally, members show non-trivial usage during 7 am and 8 am. Member times appear to refllect common commuting schedules."
   ]
  },
  {
   "cell_type": "markdown",
   "id": "f443dbce",
   "metadata": {},
   "source": [
    "Summary of Differences Between Casual Users and Members.\n",
    "We now have an understanding of the fundamental differences between the casual user and the annual member.\n",
    "\n",
    "The average casual user ride duration lasts more than twice as long as the average member.\n",
    "The average member ride speed is about 48% faster than the average casual user.\n",
    "Casual users prefer riding on weekends, between the hours of 11 am to 6 pm, while members prefer to use the service primarily on weekdays, between the hours of 4 pm to 6 pm.\n",
    "Our findings indicate that casual users are primarily using Cyclistic services for recreational purposes. When designing the marketing campaign, emphasize the recreational qualities of an annual membership.\n",
    "\n"
   ]
  }
 ],
 "metadata": {
  "kernelspec": {
   "display_name": "Python 3",
   "language": "python",
   "name": "python3"
  },
  "language_info": {
   "codemirror_mode": {
    "name": "ipython",
    "version": 3
   },
   "file_extension": ".py",
   "mimetype": "text/x-python",
   "name": "python",
   "nbconvert_exporter": "python",
   "pygments_lexer": "ipython3",
   "version": "3.8.8"
  }
 },
 "nbformat": 4,
 "nbformat_minor": 5
}
